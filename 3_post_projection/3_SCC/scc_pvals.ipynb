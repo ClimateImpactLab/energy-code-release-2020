{
 "cells": [
  {
   "cell_type": "markdown",
   "metadata": {},
   "source": [
    "## Code for calculating SCC p-values \n",
    "Note, this code is for using with Python three. "
   ]
  },
  {
   "cell_type": "code",
   "execution_count": 2,
   "metadata": {},
   "outputs": [],
   "source": [
    "# Import the modules we need. \n",
    "\n",
    "import xarray as xr\n",
    "import zarr as zr\n",
    "import pandas as pd\n",
    "import numpy as np"
   ]
  },
  {
   "cell_type": "code",
   "execution_count": 3,
   "metadata": {},
   "outputs": [
    {
     "data": {
      "text/plain": [
       "<xarray.Dataset>\n",
       "Dimensions:     (discrate: 4, pctile: 19, rcp: 2, simulation: 100000, var_type: 8)\n",
       "Coordinates:\n",
       "  * discrate    (discrate) float64 0.01 0.025 0.03 0.05\n",
       "  * pctile      (pctile) float64 0.05 0.1 0.15 0.2 0.25 ... 0.8 0.85 0.9 0.95\n",
       "  * rcp         (rcp) object 'rcp45' 'rcp85'\n",
       "  * simulation  (simulation) int64 0 1 2 3 4 5 ... 99995 99996 99997 99998 99999\n",
       "  * var_type    (var_type) object 'mergeetl60' 'price0' ... 'witchglobiom42'\n",
       "Data variables:\n",
       "    scc         (discrate, simulation, rcp, var_type, pctile) float64 dask.array<chunksize=(1, 25000, 1, 2, 5), meta=np.ndarray>\n",
       "Attributes:\n",
       "    climate_output_version:     v2.1, 2019-06-21\n",
       "    climate_parameter_author:   Kelly McCusker\n",
       "    tag:                        energy-submission-2019-11-21\n",
       "    climate_parameter_version:  2019-02-20\n",
       "    damage_function_author:     Tamma Carleton\n",
       "    damage_function:            energy_damage_coefficients_TINV_clim_income_s...\n",
       "    contact:                    dgergel@rhg.com\n",
       "    author:                     Diana Gergel\n",
       "    climate_parameters:         istrictrwf_iptdiagnoseemissions_filter_no_his...\n",
       "    damage_function_version:    v1, 2019-11-21\n",
       "    history:                    \\nversion 1.0: ADD DESCRIPTION OF V1 damage c...\n",
       "    repository:                 https://gitlab.com/ClimateImpactLab/Climate/p..."
      ]
     },
     "execution_count": 3,
     "metadata": {},
     "output_type": "execute_result"
    }
   ],
   "source": [
    "# Load in the draws data, which is a zarr dataset\n",
    "ds = xr.open_zarr('/shares/gcp/outputs/energy/scc_uncertainty/energy_scc_fulluncertainty_2019-11-21_v1.zarr')\n",
    "ds"
   ]
  },
  {
   "cell_type": "code",
   "execution_count": 4,
   "metadata": {},
   "outputs": [],
   "source": [
    "def get_p_val(var_type, discrate, rcp, ds):\n",
    "\t\n",
    "\tfiltered = ds.sel(var_type = var_type).sel(discrate = discrate).sel(rcp = rcp)\n",
    "\n",
    "\t# Turn it into a dataframe\n",
    "\tdf = filtered.to_dataframe().reset_index() \n",
    "\n",
    "\t# Weight the scc values by their quantile\n",
    "\tdf['reps'] = np.where( np.logical_or(df['pctile'] == 0.05,  df['pctile'] == 0.95) , 3, 2)\n",
    "\tdf = df.loc[np.repeat(df.index.values, df['reps'] )]\n",
    "\n",
    "\t# Since the scc is below zero, we are going to find the number of draws above zero: \n",
    "\tdf['test_fail'] = np.where(df['scc']>0, 1, 0)\n",
    "\n",
    "\tnumber_failed = df.test_fail.sum()\n",
    "\ttotal = df.test_fail.count()\n",
    "\n",
    "\tp = number_failed * 2 / total\n",
    "\n",
    "\tprint(p)\n",
    "\treturn p"
   ]
  },
  {
   "cell_type": "code",
   "execution_count": 5,
   "metadata": {},
   "outputs": [
    {
     "name": "stdout",
     "output_type": "stream",
     "text": [
      "0.041968\n"
     ]
    },
    {
     "data": {
      "text/plain": [
       "0.041968"
      ]
     },
     "execution_count": 5,
     "metadata": {},
     "output_type": "execute_result"
    }
   ],
   "source": [
    "get_p_val(var_type = 'price014', discrate = 0.03, rcp = 'rcp85', ds = ds)"
   ]
  },
  {
   "cell_type": "code",
   "execution_count": 6,
   "metadata": {},
   "outputs": [
    {
     "name": "stdout",
     "output_type": "stream",
     "text": [
      "0.0110375\n"
     ]
    },
    {
     "data": {
      "text/plain": [
       "0.0110375"
      ]
     },
     "execution_count": 6,
     "metadata": {},
     "output_type": "execute_result"
    }
   ],
   "source": [
    "get_p_val(var_type = 'price014', discrate = 0.03, rcp = 'rcp45', ds = ds)"
   ]
  },
  {
   "cell_type": "markdown",
   "metadata": {},
   "source": [
    "# I don't trust the above output, so am going to plot the values for rcp 45"
   ]
  },
  {
   "cell_type": "code",
   "execution_count": 7,
   "metadata": {},
   "outputs": [
    {
     "data": {
      "text/html": [
       "<div>\n",
       "<style scoped>\n",
       "    .dataframe tbody tr th:only-of-type {\n",
       "        vertical-align: middle;\n",
       "    }\n",
       "\n",
       "    .dataframe tbody tr th {\n",
       "        vertical-align: top;\n",
       "    }\n",
       "\n",
       "    .dataframe thead th {\n",
       "        text-align: right;\n",
       "    }\n",
       "</style>\n",
       "<table border=\"1\" class=\"dataframe\">\n",
       "  <thead>\n",
       "    <tr style=\"text-align: right;\">\n",
       "      <th></th>\n",
       "      <th>pctile</th>\n",
       "      <th>simulation</th>\n",
       "      <th>discrate</th>\n",
       "      <th>rcp</th>\n",
       "      <th>scc</th>\n",
       "      <th>var_type</th>\n",
       "      <th>reps</th>\n",
       "    </tr>\n",
       "  </thead>\n",
       "  <tbody>\n",
       "    <tr>\n",
       "      <th>0</th>\n",
       "      <td>0.05</td>\n",
       "      <td>0</td>\n",
       "      <td>0.03</td>\n",
       "      <td>rcp45</td>\n",
       "      <td>-7.858727</td>\n",
       "      <td>price014</td>\n",
       "      <td>3</td>\n",
       "    </tr>\n",
       "    <tr>\n",
       "      <th>0</th>\n",
       "      <td>0.05</td>\n",
       "      <td>0</td>\n",
       "      <td>0.03</td>\n",
       "      <td>rcp45</td>\n",
       "      <td>-7.858727</td>\n",
       "      <td>price014</td>\n",
       "      <td>3</td>\n",
       "    </tr>\n",
       "    <tr>\n",
       "      <th>0</th>\n",
       "      <td>0.05</td>\n",
       "      <td>0</td>\n",
       "      <td>0.03</td>\n",
       "      <td>rcp45</td>\n",
       "      <td>-7.858727</td>\n",
       "      <td>price014</td>\n",
       "      <td>3</td>\n",
       "    </tr>\n",
       "    <tr>\n",
       "      <th>1</th>\n",
       "      <td>0.05</td>\n",
       "      <td>1</td>\n",
       "      <td>0.03</td>\n",
       "      <td>rcp45</td>\n",
       "      <td>-0.844233</td>\n",
       "      <td>price014</td>\n",
       "      <td>3</td>\n",
       "    </tr>\n",
       "    <tr>\n",
       "      <th>1</th>\n",
       "      <td>0.05</td>\n",
       "      <td>1</td>\n",
       "      <td>0.03</td>\n",
       "      <td>rcp45</td>\n",
       "      <td>-0.844233</td>\n",
       "      <td>price014</td>\n",
       "      <td>3</td>\n",
       "    </tr>\n",
       "  </tbody>\n",
       "</table>\n",
       "</div>"
      ],
      "text/plain": [
       "   pctile  simulation  discrate    rcp       scc  var_type  reps\n",
       "0    0.05           0      0.03  rcp45 -7.858727  price014     3\n",
       "0    0.05           0      0.03  rcp45 -7.858727  price014     3\n",
       "0    0.05           0      0.03  rcp45 -7.858727  price014     3\n",
       "1    0.05           1      0.03  rcp45 -0.844233  price014     3\n",
       "1    0.05           1      0.03  rcp45 -0.844233  price014     3"
      ]
     },
     "execution_count": 7,
     "metadata": {},
     "output_type": "execute_result"
    }
   ],
   "source": [
    "df = ds.sel(var_type = 'price014').sel(discrate = 0.03).sel(rcp = 'rcp45') \\\n",
    "            .to_dataframe().reset_index()\n",
    "df['reps'] = np.where( np.logical_or(df['pctile'] == 0.05,  df['pctile'] == 0.95) , 3, 2)\n",
    "df = df.loc[np.repeat(df.index.values, df['reps'] )]\n",
    "df.head()"
   ]
  },
  {
   "cell_type": "code",
   "execution_count": null,
   "metadata": {},
   "outputs": [],
   "source": []
  },
  {
   "cell_type": "code",
   "execution_count": null,
   "metadata": {},
   "outputs": [],
   "source": []
  },
  {
   "cell_type": "code",
   "execution_count": null,
   "metadata": {},
   "outputs": [],
   "source": []
  }
 ],
 "metadata": {
  "kernelspec": {
   "display_name": "Python 3",
   "language": "python",
   "name": "python3"
  },
  "language_info": {
   "codemirror_mode": {
    "name": "ipython",
    "version": 3
   },
   "file_extension": ".py",
   "mimetype": "text/x-python",
   "name": "python",
   "nbconvert_exporter": "python",
   "pygments_lexer": "ipython3",
   "version": "3.5.5"
  }
 },
 "nbformat": 4,
 "nbformat_minor": 4
}
