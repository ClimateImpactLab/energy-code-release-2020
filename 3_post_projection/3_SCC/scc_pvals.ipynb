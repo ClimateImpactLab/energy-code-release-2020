{
 "cells": [
  {
   "cell_type": "markdown",
   "metadata": {},
   "source": [
    "## Code for calculating SCC p-values \n",
    "Note, this code is for using with Python three. "
   ]
  },
  {
   "cell_type": "code",
   "execution_count": 1,
   "metadata": {},
   "outputs": [
    {
     "name": "stderr",
     "output_type": "stream",
     "text": [
      "/home/liruixue/miniconda3/envs/risingverse/lib/python3.7/site-packages/xarray/core/merge.py:10: FutureWarning: The Panel class is removed from pandas. Accessing it from the top-level namespace will also be removed in the next version\n",
      "  PANDAS_TYPES = (pd.Series, pd.DataFrame, pd.Panel)\n"
     ]
    }
   ],
   "source": [
    "# Import the modules we need. \n",
    "\n",
    "# !conda install --yes zarr\n",
    "import xarray as xr\n",
    "# import zarr as zr\n",
    "import pandas as pd\n",
    "import numpy as np"
   ]
  },
  {
   "cell_type": "code",
   "execution_count": 3,
   "metadata": {},
   "outputs": [
    {
     "data": {
      "text/plain": [
       "<xarray.Dataset>\n",
       "Dimensions:     (discrate: 5, pctile: 19, rcp: 2, simulation: 96306, var_type: 8)\n",
       "Coordinates:\n",
       "  * simulation  (simulation) int64 0 1 2 3 4 5 ... 99995 99996 99997 99998 99999\n",
       "  * rcp         (rcp) object 'rcp45' 'rcp85'\n",
       "  * var_type    (var_type) object 'MERGEETL60' 'REMIND17' ... 'price03'\n",
       "  * pctile      (pctile) float64 0.05 0.1 0.15 0.2 0.25 ... 0.8 0.85 0.9 0.95\n",
       "  * discrate    (discrate) float64 0.01 0.02 0.025 0.03 0.05\n",
       "Data variables:\n",
       "    scc         (discrate, simulation, rcp, var_type, pctile) float64 ...\n",
       "Attributes:\n",
       "    damage_function:            energy_damage_coefficients_TINV_clim_pixel_le...\n",
       "    damage_function_version:    v1.1, 2020-10-14\n",
       "    damage_function_author:     Ashwin Rode\n",
       "    climate_parameters:         istrictrwf_iptdiagnoseemissions_filter_no_his...\n",
       "    climate_parameter_version:  2019-02-20\n",
       "    climate_parameter_author:   Kelly McCusker\n",
       "    climate_output_version:     v2.1, 2019-06-21\n",
       "    repository:                 https://gitlab.com/ClimateImpactLab/Climate/p...\n",
       "    tag:                        energy-submission-2020-10-14\n",
       "    history:                    \\nversion 1.1: October 2020 resubmission: pix...\n",
       "    author:                     Kelly McCusker\n",
       "    contact:                    kmccusker@rhg.com"
      ]
     },
     "execution_count": 3,
     "metadata": {},
     "output_type": "execute_result"
    }
   ],
   "source": [
    "# Load in the draws data, which is a zarr dataset\n",
    "ds = xr.open_dataset('/shares/gcp/outputs/energy/scc_uncertainty/energy_fulluncertainty_scc_filtered_allpricescenarios_v1.1.nc')\n",
    "ds"
   ]
  },
  {
   "cell_type": "code",
   "execution_count": null,
   "metadata": {},
   "outputs": [],
   "source": []
  },
  {
   "cell_type": "code",
   "execution_count": 18,
   "metadata": {},
   "outputs": [
    {
     "data": {
      "text/html": [
       "<div>\n",
       "<style scoped>\n",
       "    .dataframe tbody tr th:only-of-type {\n",
       "        vertical-align: middle;\n",
       "    }\n",
       "\n",
       "    .dataframe tbody tr th {\n",
       "        vertical-align: top;\n",
       "    }\n",
       "\n",
       "    .dataframe thead th {\n",
       "        text-align: right;\n",
       "    }\n",
       "</style>\n",
       "<table border=\"1\" class=\"dataframe\">\n",
       "  <thead>\n",
       "    <tr style=\"text-align: right;\">\n",
       "      <th></th>\n",
       "      <th>discrate</th>\n",
       "      <th>pctile</th>\n",
       "      <th>rcp</th>\n",
       "      <th>simulation</th>\n",
       "      <th>var_type</th>\n",
       "      <th>scc</th>\n",
       "    </tr>\n",
       "  </thead>\n",
       "  <tbody>\n",
       "    <tr>\n",
       "      <th>0</th>\n",
       "      <td>0.01</td>\n",
       "      <td>0.05</td>\n",
       "      <td>rcp45</td>\n",
       "      <td>0</td>\n",
       "      <td>MERGEETL60</td>\n",
       "      <td>-46.792991</td>\n",
       "    </tr>\n",
       "    <tr>\n",
       "      <th>1</th>\n",
       "      <td>0.01</td>\n",
       "      <td>0.05</td>\n",
       "      <td>rcp45</td>\n",
       "      <td>0</td>\n",
       "      <td>REMIND17</td>\n",
       "      <td>-127.640671</td>\n",
       "    </tr>\n",
       "    <tr>\n",
       "      <th>2</th>\n",
       "      <td>0.01</td>\n",
       "      <td>0.05</td>\n",
       "      <td>rcp45</td>\n",
       "      <td>0</td>\n",
       "      <td>REMIND17CEMICS</td>\n",
       "      <td>-124.789301</td>\n",
       "    </tr>\n",
       "    <tr>\n",
       "      <th>3</th>\n",
       "      <td>0.01</td>\n",
       "      <td>0.05</td>\n",
       "      <td>rcp45</td>\n",
       "      <td>0</td>\n",
       "      <td>REMINDMAgPIE1730</td>\n",
       "      <td>-122.825081</td>\n",
       "    </tr>\n",
       "    <tr>\n",
       "      <th>4</th>\n",
       "      <td>0.01</td>\n",
       "      <td>0.05</td>\n",
       "      <td>rcp45</td>\n",
       "      <td>0</td>\n",
       "      <td>WITCHGLOBIOM42</td>\n",
       "      <td>-138.305090</td>\n",
       "    </tr>\n",
       "    <tr>\n",
       "      <th>...</th>\n",
       "      <td>...</td>\n",
       "      <td>...</td>\n",
       "      <td>...</td>\n",
       "      <td>...</td>\n",
       "      <td>...</td>\n",
       "      <td>...</td>\n",
       "    </tr>\n",
       "    <tr>\n",
       "      <th>146385115</th>\n",
       "      <td>0.05</td>\n",
       "      <td>0.95</td>\n",
       "      <td>rcp85</td>\n",
       "      <td>99999</td>\n",
       "      <td>REMINDMAgPIE1730</td>\n",
       "      <td>-0.447196</td>\n",
       "    </tr>\n",
       "    <tr>\n",
       "      <th>146385116</th>\n",
       "      <td>0.05</td>\n",
       "      <td>0.95</td>\n",
       "      <td>rcp85</td>\n",
       "      <td>99999</td>\n",
       "      <td>WITCHGLOBIOM42</td>\n",
       "      <td>-0.184952</td>\n",
       "    </tr>\n",
       "    <tr>\n",
       "      <th>146385117</th>\n",
       "      <td>0.05</td>\n",
       "      <td>0.95</td>\n",
       "      <td>rcp85</td>\n",
       "      <td>99999</td>\n",
       "      <td>price0</td>\n",
       "      <td>-0.106351</td>\n",
       "    </tr>\n",
       "    <tr>\n",
       "      <th>146385118</th>\n",
       "      <td>0.05</td>\n",
       "      <td>0.95</td>\n",
       "      <td>rcp85</td>\n",
       "      <td>99999</td>\n",
       "      <td>price014</td>\n",
       "      <td>-0.136043</td>\n",
       "    </tr>\n",
       "    <tr>\n",
       "      <th>146385119</th>\n",
       "      <td>0.05</td>\n",
       "      <td>0.95</td>\n",
       "      <td>rcp85</td>\n",
       "      <td>99999</td>\n",
       "      <td>price03</td>\n",
       "      <td>-0.146872</td>\n",
       "    </tr>\n",
       "  </tbody>\n",
       "</table>\n",
       "<p>146385120 rows × 6 columns</p>\n",
       "</div>"
      ],
      "text/plain": [
       "           discrate  pctile    rcp  simulation          var_type         scc\n",
       "0              0.01    0.05  rcp45           0        MERGEETL60  -46.792991\n",
       "1              0.01    0.05  rcp45           0          REMIND17 -127.640671\n",
       "2              0.01    0.05  rcp45           0    REMIND17CEMICS -124.789301\n",
       "3              0.01    0.05  rcp45           0  REMINDMAgPIE1730 -122.825081\n",
       "4              0.01    0.05  rcp45           0    WITCHGLOBIOM42 -138.305090\n",
       "...             ...     ...    ...         ...               ...         ...\n",
       "146385115      0.05    0.95  rcp85       99999  REMINDMAgPIE1730   -0.447196\n",
       "146385116      0.05    0.95  rcp85       99999    WITCHGLOBIOM42   -0.184952\n",
       "146385117      0.05    0.95  rcp85       99999            price0   -0.106351\n",
       "146385118      0.05    0.95  rcp85       99999          price014   -0.136043\n",
       "146385119      0.05    0.95  rcp85       99999           price03   -0.146872\n",
       "\n",
       "[146385120 rows x 6 columns]"
      ]
     },
     "execution_count": 18,
     "metadata": {},
     "output_type": "execute_result"
    }
   ],
   "source": [
    "ds.to_dataframe().reset_index()"
   ]
  },
  {
   "cell_type": "code",
   "execution_count": 8,
   "metadata": {},
   "outputs": [],
   "source": [
    "def get_p_val(var_type, discrate, rcp, ds):\n",
    "\t\n",
    "\tfiltered = ds.sel(var_type = var_type).sel(discrate = discrate).sel(rcp = rcp)\n",
    "\n",
    "\t# Turn it into a dataframe\n",
    "\tdf = filtered.to_dataframe().reset_index() \n",
    "\n",
    "\t# Weight the scc values by their quantile\n",
    "\tdf['reps'] = np.where( np.logical_or(df['pctile'] == 0.05,  df['pctile'] == 0.95) , 3, 2)\n",
    "\tdf = df.loc[np.repeat(df.index.values, df['reps'] )]\n",
    "\n",
    "\t# Since the scc is below zero, we are going to find the number of draws above zero: \n",
    "\tdf['test_fail'] = np.where(df['scc']>0, 1, 0)\n",
    "\n",
    "\tnumber_failed = df.test_fail.sum()\n",
    "\ttotal = df.test_fail.count()\n",
    "\n",
    "\tp = number_failed * 2 / total\n",
    "\n",
    "\tprint(p)\n",
    "\treturn p"
   ]
  },
  {
   "cell_type": "code",
   "execution_count": 13,
   "metadata": {},
   "outputs": [
    {
     "name": "stdout",
     "output_type": "stream",
     "text": [
      "0.09344433368637468\n"
     ]
    },
    {
     "data": {
      "text/plain": [
       "0.09344433368637468"
      ]
     },
     "execution_count": 13,
     "metadata": {},
     "output_type": "execute_result"
    }
   ],
   "source": [
    "get_p_val(var_type = 'price014', discrate = 0.03, rcp = 'rcp85', ds = ds)"
   ]
  },
  {
   "cell_type": "code",
   "execution_count": 14,
   "metadata": {},
   "outputs": [
    {
     "name": "stdout",
     "output_type": "stream",
     "text": [
      "0.2449582580524578\n"
     ]
    },
    {
     "data": {
      "text/plain": [
       "0.2449582580524578"
      ]
     },
     "execution_count": 14,
     "metadata": {},
     "output_type": "execute_result"
    }
   ],
   "source": [
    "get_p_val(var_type = 'price014', discrate = 0.02, rcp = 'rcp85', ds = ds)"
   ]
  },
  {
   "cell_type": "code",
   "execution_count": 15,
   "metadata": {},
   "outputs": [
    {
     "name": "stdout",
     "output_type": "stream",
     "text": [
      "0.04365148588872968\n"
     ]
    },
    {
     "data": {
      "text/plain": [
       "0.04365148588872968"
      ]
     },
     "execution_count": 15,
     "metadata": {},
     "output_type": "execute_result"
    }
   ],
   "source": [
    "get_p_val(var_type = 'price014', discrate = 0.03, rcp = 'rcp45', ds = ds)"
   ]
  },
  {
   "cell_type": "code",
   "execution_count": 16,
   "metadata": {},
   "outputs": [
    {
     "name": "stdout",
     "output_type": "stream",
     "text": [
      "0.2012320104666376\n"
     ]
    },
    {
     "data": {
      "text/plain": [
       "0.2012320104666376"
      ]
     },
     "execution_count": 16,
     "metadata": {},
     "output_type": "execute_result"
    }
   ],
   "source": [
    "get_p_val(var_type = 'price014', discrate = 0.02, rcp = 'rcp45', ds = ds)"
   ]
  },
  {
   "cell_type": "markdown",
   "metadata": {},
   "source": [
    "# I don't trust the above output, so am going to plot the values for rcp 45"
   ]
  },
  {
   "cell_type": "code",
   "execution_count": 12,
   "metadata": {},
   "outputs": [
    {
     "data": {
      "text/html": [
       "<div>\n",
       "<style scoped>\n",
       "    .dataframe tbody tr th:only-of-type {\n",
       "        vertical-align: middle;\n",
       "    }\n",
       "\n",
       "    .dataframe tbody tr th {\n",
       "        vertical-align: top;\n",
       "    }\n",
       "\n",
       "    .dataframe thead th {\n",
       "        text-align: right;\n",
       "    }\n",
       "</style>\n",
       "<table border=\"1\" class=\"dataframe\">\n",
       "  <thead>\n",
       "    <tr style=\"text-align: right;\">\n",
       "      <th></th>\n",
       "      <th>pctile</th>\n",
       "      <th>simulation</th>\n",
       "      <th>scc</th>\n",
       "      <th>rcp</th>\n",
       "      <th>var_type</th>\n",
       "      <th>discrate</th>\n",
       "      <th>reps</th>\n",
       "    </tr>\n",
       "  </thead>\n",
       "  <tbody>\n",
       "    <tr>\n",
       "      <th>0</th>\n",
       "      <td>0.05</td>\n",
       "      <td>0</td>\n",
       "      <td>-7.182411</td>\n",
       "      <td>rcp45</td>\n",
       "      <td>price014</td>\n",
       "      <td>0.03</td>\n",
       "      <td>3</td>\n",
       "    </tr>\n",
       "    <tr>\n",
       "      <th>0</th>\n",
       "      <td>0.05</td>\n",
       "      <td>0</td>\n",
       "      <td>-7.182411</td>\n",
       "      <td>rcp45</td>\n",
       "      <td>price014</td>\n",
       "      <td>0.03</td>\n",
       "      <td>3</td>\n",
       "    </tr>\n",
       "    <tr>\n",
       "      <th>0</th>\n",
       "      <td>0.05</td>\n",
       "      <td>0</td>\n",
       "      <td>-7.182411</td>\n",
       "      <td>rcp45</td>\n",
       "      <td>price014</td>\n",
       "      <td>0.03</td>\n",
       "      <td>3</td>\n",
       "    </tr>\n",
       "    <tr>\n",
       "      <th>1</th>\n",
       "      <td>0.05</td>\n",
       "      <td>1</td>\n",
       "      <td>-0.895365</td>\n",
       "      <td>rcp45</td>\n",
       "      <td>price014</td>\n",
       "      <td>0.03</td>\n",
       "      <td>3</td>\n",
       "    </tr>\n",
       "    <tr>\n",
       "      <th>1</th>\n",
       "      <td>0.05</td>\n",
       "      <td>1</td>\n",
       "      <td>-0.895365</td>\n",
       "      <td>rcp45</td>\n",
       "      <td>price014</td>\n",
       "      <td>0.03</td>\n",
       "      <td>3</td>\n",
       "    </tr>\n",
       "  </tbody>\n",
       "</table>\n",
       "</div>"
      ],
      "text/plain": [
       "   pctile  simulation       scc    rcp  var_type  discrate  reps\n",
       "0    0.05           0 -7.182411  rcp45  price014      0.03     3\n",
       "0    0.05           0 -7.182411  rcp45  price014      0.03     3\n",
       "0    0.05           0 -7.182411  rcp45  price014      0.03     3\n",
       "1    0.05           1 -0.895365  rcp45  price014      0.03     3\n",
       "1    0.05           1 -0.895365  rcp45  price014      0.03     3"
      ]
     },
     "execution_count": 12,
     "metadata": {},
     "output_type": "execute_result"
    }
   ],
   "source": [
    "df = ds.sel(var_type = 'price014').sel(discrate = 0.03).sel(rcp = 'rcp45') \\\n",
    "            .to_dataframe().reset_index()\n",
    "df['reps'] = np.where( np.logical_or(df['pctile'] == 0.05,  df['pctile'] == 0.95) , 3, 2)\n",
    "df = df.loc[np.repeat(df.index.values, df['reps'] )]\n",
    "df.head()"
   ]
  },
  {
   "cell_type": "code",
   "execution_count": null,
   "metadata": {},
   "outputs": [],
   "source": []
  },
  {
   "cell_type": "code",
   "execution_count": null,
   "metadata": {},
   "outputs": [],
   "source": []
  },
  {
   "cell_type": "code",
   "execution_count": null,
   "metadata": {},
   "outputs": [],
   "source": []
  }
 ],
 "metadata": {
  "kernelspec": {
   "display_name": "Python 3",
   "language": "python",
   "name": "python3"
  },
  "language_info": {
   "codemirror_mode": {
    "name": "ipython",
    "version": 3
   },
   "file_extension": ".py",
   "mimetype": "text/x-python",
   "name": "python",
   "nbconvert_exporter": "python",
   "pygments_lexer": "ipython3",
   "version": "3.7.8"
  }
 },
 "nbformat": 4,
 "nbformat_minor": 4
}
