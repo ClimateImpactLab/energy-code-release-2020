{
 "cells": [
  {
   "cell_type": "markdown",
   "metadata": {},
   "source": [
    "# Estimating the SCC using CIL damage functions and the FAIR SCM\n",
    "\n",
    "The experiment is conducted as follows:\n",
    "\n",
    "* Use the RCP scenarios as defined by the default FAIR model\n",
    "* Add an additional CO2 impulse (1 Gt C) to each trajectory in 2020 (updated from 2015)\n",
    "* Compute damages using the resulting temperature trajectories\n",
    "* Subtract the damages in the standard RCPs from the damages in the pulse runs\n",
    "* Divide this value by the quantity of added CO2 (1 Gt C * 44.0098 / 12.011 = 3.66 Gt CO2) to achieve \\$/ton CO2\n",
    "* Compute the NPV of this time series of marginal damages using various discount rates\n",
    "\n",
    "Note: Damage function units fed into this calculation should be billions of 2019 USD"
   ]
  },
  {
   "cell_type": "markdown",
   "metadata": {},
   "source": [
    "## Set up workspace"
   ]
  },
  {
   "cell_type": "code",
   "execution_count": 95,
   "metadata": {},
   "outputs": [],
   "source": [
    "# Change this input file to your DB root!\n",
    "DB = 'C:/Users/TomBearpark/SynologyDrive'\n",
    "root =  \"C:/Users/TomBearpark/Documents/energy-code-release-2020\"\n",
    "model = 'main' # options are 'main', 'lininter', and 'lininter_double'\n",
    "\n",
    "ssp = '3'\n",
    "\n",
    "# Toggle to generate plots or not\n",
    "generate_plots = False\n",
    "hold_2100_damages_fixed = False"
   ]
  },
  {
   "cell_type": "code",
   "execution_count": 96,
   "metadata": {},
   "outputs": [],
   "source": [
    "%matplotlib inline"
   ]
  },
  {
   "cell_type": "code",
   "execution_count": 97,
   "metadata": {},
   "outputs": [],
   "source": [
    "# SSP must be \"3\" unless you are running the main model, in which case it can be \n",
    "# also 2 or 4\n",
    "\n",
    "if model == 'lininter' or model == 'lininter_double':\n",
    "    assert ssp == '3',\"ssp must be 3 unless you are running the main model\"\n"
   ]
  },
  {
   "cell_type": "code",
   "execution_count": 98,
   "metadata": {},
   "outputs": [
    {
     "name": "stdout",
     "output_type": "stream",
     "text": [
      "Requirement already satisfied: fair==1.3.2 in c:\\users\\tombearpark\\anaconda2\\envs\\tom\\lib\\site-packages (1.3.2)\n",
      "Requirement already satisfied: scipy>=0.19.0 in c:\\users\\tombearpark\\anaconda2\\envs\\tom\\lib\\site-packages (from fair==1.3.2) (1.2.2)\n",
      "Requirement already satisfied: numpy>=1.11.3 in c:\\users\\tombearpark\\anaconda2\\envs\\tom\\lib\\site-packages (from fair==1.3.2) (1.16.4)\n"
     ]
    },
    {
     "name": "stderr",
     "output_type": "stream",
     "text": [
      "DEPRECATION: Python 2.7 will reach the end of its life on January 1st, 2020. Please upgrade your Python as Python 2.7 won't be maintained after that date. A future version of pip will drop support for Python 2.7. More details about Python 2 support in pip, can be found at https://pip.pypa.io/en/latest/development/release-process/#python-2-support\n"
     ]
    }
   ],
   "source": [
    "! pip install fair==1.3.2"
   ]
  },
  {
   "cell_type": "code",
   "execution_count": 99,
   "metadata": {},
   "outputs": [],
   "source": [
    "import numpy as np\n",
    "import pandas as pd\n",
    "import xarray as xr\n",
    "import os, glob\n",
    "\n",
    "try:\n",
    "    from StringIO import StringIO\n",
    "except ImportError:\n",
    "    from io import StringIO\n",
    "\n",
    "import matplotlib\n",
    "from matplotlib import pyplot as plt\n",
    "from matplotlib import cm\n",
    "import seaborn as sns\n",
    "plt.style.use('seaborn-white')\n",
    "plt.rcParams['figure.figsize'] = (16, 9)\n",
    "\n",
    "from datetime import datetime\n",
    "\n",
    "import sys\n",
    "sys.path.append('./functions/.')\n",
    "import load_fair"
   ]
  },
  {
   "cell_type": "code",
   "execution_count": 101,
   "metadata": {},
   "outputs": [],
   "source": [
    "# Assign price scenarios to run with\n",
    "\n",
    "if ssp == '3':\n",
    "    if model == 'lininter' or model == 'lininter_double':\n",
    "        # For lininter model:, or lininter_double model \n",
    "        scenario_to_run = 'price014' \n",
    "    else:\n",
    "        # For main model\n",
    "        scenario_to_run = 'price014', 'price0', 'price03', 'WITCHGLOBIOM42', 'MERGEETL60', 'REMINDMAgPIE1730', 'REMIND17CEMICS', 'REMIND17'\n",
    "else:\n",
    "    scenario_to_run = 'price014' \n",
    "\n",
    "    \n",
    "if model == 'main':\n",
    "    model_tag = ''\n",
    "else:\n",
    "    model_tag = '_{}'.format(model)\n",
    "    \n",
    "# run/code specifications\n",
    "version = 'v0.5' # code version\n",
    "specification = 'energy_SSP{}_all_prices'.format(ssp)\n",
    "stem = 'df_mean_output_SSP{}{}'.format(ssp, model_tag) # file stem for df coefficients\n",
    "MAGNITUDE_OF_DAMAGES = 1e9  # magnitude of damage function values\n",
    "\n",
    "INPUT_path = '{}/GCP_Reanalysis/ENERGY/code_release_data/damage_function_estimation/coefficients/'.format(DB)\n",
    "OUTPUT_path = '{}/figures/scc_values/{}/'.format(root, model)"
   ]
  },
  {
   "cell_type": "markdown",
   "metadata": {},
   "source": [
    "# Load FAIR Temperatures Anomaly\n",
    "\n",
    "## RCPs\n",
    "We can run FAIR with the CO$_2$ emissions and non-CO$_2$ forcing from the four representative concentration pathway scenarios. To use the emissions-based version specify ```useMultigas=True``` in the call to ```fair_scm()```.\n",
    "\n",
    "By default in multi-gas mode, volcanic and solar forcing plus natural emissions of methane and nitrous oxide are switched on.\n",
    "\n",
    "## SCC\n",
    "\n",
    "We can compute the SCC by adding an additional pulse in CO2 emissions to the RCP trajectory. \n",
    "\n",
    "### Scenario design\n",
    "This study uses a 1 Gt C emissions pulse. You can change the pulse amount by modifying the PULSE_AMT variable below, and adapting the CONVERSION value to match."
   ]
  },
  {
   "cell_type": "code",
   "execution_count": 102,
   "metadata": {},
   "outputs": [],
   "source": [
    "PULSE_YEAR = 2020  # year in which pulse will be emitted\n",
    "PULSE_AMT = 1.0  # in Gt C = 1e9 ton C\n",
    "\n",
    "# CONVERSION is in units of [pulse/tCO2] = [1 pulse/PULSE_AMT GtC * 1 GtC/1e9 tC * 12tC/44tCO2]\n",
    "# This is used to convert costs ($Bn / pulse) to SCC ($/ton CO2), but the $Bn to $ conversion is separate.\n",
    "# Therefore, it should be the inverse of any changes to PULSE_AMT\n",
    "CONVERSION = 1.0 / PULSE_AMT / 1e9 * 12.011 / 44.0098"
   ]
  },
  {
   "cell_type": "code",
   "execution_count": 103,
   "metadata": {},
   "outputs": [
    {
     "name": "stdout",
     "output_type": "stream",
     "text": [
      "Finished loading FAIR\n"
     ]
    }
   ],
   "source": [
    "fair_temperatures_anomaly = load_fair.temperatures_anomaly(PULSE_YEAR = PULSE_YEAR, \n",
    "                                                           PULSE_AMT = PULSE_AMT, \n",
    "                                                           make_plots = False, \n",
    "                                                           output = OUTPUT_path)"
   ]
  },
  {
   "cell_type": "code",
   "execution_count": 104,
   "metadata": {},
   "outputs": [
    {
     "data": {
      "text/plain": [
       "<xarray.DataArray ()>\n",
       "array(0.848591)\n",
       "Coordinates:\n",
       "    pulse    |S5 'pulse'\n",
       "    rcp      |S5 'rcp45'\n",
       "    year     float64 2.05e+03"
      ]
     },
     "execution_count": 104,
     "metadata": {},
     "output_type": "execute_result"
    }
   ],
   "source": [
    "fair_temperatures_anomaly.sel(pulse = 'pulse',rcp = 'rcp45', year = 2050.0)"
   ]
  },
  {
   "cell_type": "markdown",
   "metadata": {},
   "source": [
    "## Incorporate a single damage function\n",
    "\n",
    "This is the damage function from Tamma, with a set of coefficients for each year.\n",
    "\n",
    "Version 0.3 update: The damage function can now be held constant or allowed to vary post-2100. Additionally, different valuation scenarios can be selected within the damage function .csv file. See comments in the document header. \n",
    "\n",
    "Note: damages are estimated in Billion 2005 \\$PPP, so use the U.S. GDP deflator for 2005 from the World Bank. Take the ratio with the `PULSE_YEAR` deflator (U.S. GDP deflator for the pulse_year from the World Bank) to convert the dollars from 2005 \\$PPP to `PULSE_YEAR` $PPP. Update - in version 0.5, the damages are input as billions of 2019 dollars, so these conversion factors are just set to one. "
   ]
  },
  {
   "cell_type": "code",
   "execution_count": 105,
   "metadata": {},
   "outputs": [],
   "source": [
    "# Time the SCC calculation\n",
    "startTime = datetime.now()\n",
    "\n",
    "# Make sure the 'year', 'placeholder' and 'growth_rate' columns are the first three columns in the damage function .csv\n",
    "fps = glob.glob('{}/{}.csv'.format(INPUT_path,stem))\n",
    "\n",
    "def read_damage_func(fp):\n",
    "    df = pd.read_csv(fp, index_col=[0,1,2])\n",
    "    df.columns.names = ['coeff']\n",
    "    return df.stack('coeff').to_xarray()\n",
    "\n",
    "ss = len(stem) + 1\n",
    "ee = ss + 4\n",
    "\n",
    "ds = xr.Dataset({\n",
    "    os.path.splitext(os.path.basename(fp))[0]: read_damage_func(fp) for fp in fps\n",
    "})"
   ]
  },
  {
   "cell_type": "code",
   "execution_count": 106,
   "metadata": {},
   "outputs": [],
   "source": [
    "# The placeholder dimension is not used. The line .sel(placeholder='ss') will get rid of it. (if its in there, change this)\n",
    "coeffs_all_years = (\n",
    "    ds.sel(placeholder='ss')\n",
    "    .to_array(dim='variable').to_series().unstack('year')\n",
    "    .reindex(list(range(2020, 2301)), axis=1)\n",
    "    .stack('year')\n",
    "    .unstack('coeff')\n",
    "    .to_xarray()\n",
    ")\n",
    "\n",
    "# The following operation reorders the 'variable' and 'year' coordinates. This causes errors when plotting.\n",
    "# I can't get it to not do that here, but I fix it when damages are calculated below with a transpose() call.\n",
    "if hold_2100_damages_fixed:\n",
    "    mask = coeffs_all_years['year'] > 2100\n",
    "    coeffs_2100 = coeffs_all_years.sel(year=2100)\n",
    "    coeffs_all_years = xr.where(mask, coeffs_2100, coeffs_all_years)"
   ]
  },
  {
   "cell_type": "code",
   "execution_count": 107,
   "metadata": {},
   "outputs": [],
   "source": [
    "coeffs_all_years = coeffs_all_years.sel(variable=stem)"
   ]
  },
  {
   "cell_type": "code",
   "execution_count": 108,
   "metadata": {},
   "outputs": [],
   "source": [
    "if generate_plots:\n",
    "    fig, axes = plt.subplots(1, 3, figsize=(15, 4))\n",
    "\n",
    "    for g, gr in enumerate(coeffs_all_years.growth_rate):\n",
    "        for i, coeff in enumerate(['cons', 'beta1', 'beta2']):\n",
    "            lines = coeffs_all_years.sel(growth_rate=gr)[coeff].plot.line(\n",
    "                x='year', ax=axes[i], add_legend=False, \n",
    "                color=matplotlib.cm.Blues_r((len(coeffs_all_years.growth_rate)*1.-g)/len(coeffs_all_years.growth_rate)) )\n",
    "\n",
    "            axes[i].set_title(coeff)\n",
    "\n",
    "    sns.despine()"
   ]
  },
  {
   "cell_type": "code",
   "execution_count": 109,
   "metadata": {},
   "outputs": [],
   "source": [
    "powers = xr.DataArray(\n",
    "        np.arange(0, 11),\n",
    "        dims=['coeff'],\n",
    "        coords=[['cons'] + ['beta{}'.format(i) for i in range(1, 11)]])\n",
    "\n",
    "if generate_plots:\n",
    "    temps = np.linspace(-5, 20, 1101)\n",
    "    temps = xr.DataArray(temps, dims=['temp'], coords=[temps])\n",
    "\n",
    "    numvars = len(coeffs_all_years.growth_rate)\n",
    "    fig, axes = plt.subplots((numvars+1)//2, min(2, numvars), figsize=(15, 15))\n",
    "\n",
    "    if numvars == 1:\n",
    "        axes = np.array([[axes]])\n",
    "\n",
    "    # dot product of coeffs and powers of temp\n",
    "    spaghetti = (\n",
    "        (coeffs_all_years.to_array('coeff') * (temps ** powers)).sum(dim='coeff'))\n",
    "\n",
    "    for vi, v in enumerate(coeffs_all_years.growth_rate.values):\n",
    "\n",
    "        lines = []\n",
    "        for y in reversed(coeffs_all_years.year.values[:86:5]):\n",
    "\n",
    "            lines.append(\n",
    "                axes[vi//2, vi%2].plot(\n",
    "                    temps.values,\n",
    "                    spaghetti.sel(year=y, growth_rate=v).values,\n",
    "                    color=matplotlib.cm.Blues_r((y-2020.0)/(2100-2000)),\n",
    "                    label=int(y)))\n",
    "\n",
    "        axes[vi//2, vi%2].set_facecolor('white')\n",
    "        axes[vi//2, vi%2].set_title(v)\n",
    "\n",
    "    plt.subplots_adjust(right=0.85)\n",
    "    axes[0, -1].legend(\n",
    "        list(reversed(lines))[::5],\n",
    "        labels=list(reversed(coeffs_all_years.year.values[:86]))[::5],\n",
    "        loc='center left',\n",
    "        bbox_to_anchor=(1.01, (1-(((numvars-1)//2)%2))*0.5))\n",
    "    fig.set_facecolor('white')\n",
    "\n",
    "    sns.despine()\n",
    "    fig.savefig('{}/damage_functions_{}_{}_2100-fixed-{}.pdf'.format(OUTPUT_path, specification, version, hold_2100_damages_fixed))\n",
    "    "
   ]
  },
  {
   "cell_type": "markdown",
   "metadata": {},
   "source": [
    "### Compute damages"
   ]
  },
  {
   "cell_type": "markdown",
   "metadata": {},
   "source": [
    "Combine the damage function coefficients with the FAIR temperatures:\n",
    "\n",
    "$$d_y = c_2*T_y^2+C_1*T_y+C_0 \\hspace{1in}\\forall \\hspace{0.1in} y \\in [2020, 2300]$$"
   ]
  },
  {
   "cell_type": "code",
   "execution_count": 110,
   "metadata": {},
   "outputs": [],
   "source": [
    "damages = (\n",
    "    (coeffs_all_years.to_array('coeff') * (fair_temperatures_anomaly ** powers)).sum(dim='coeff'))"
   ]
  },
  {
   "cell_type": "markdown",
   "metadata": {},
   "source": [
    "### Plot time series of damages"
   ]
  },
  {
   "cell_type": "code",
   "execution_count": 111,
   "metadata": {},
   "outputs": [],
   "source": [
    "if generate_plots:\n",
    "    numvars = len(coeffs_all_years.growth_rate)\n",
    "    fig, ax = plt.subplots((numvars+1)//2, min(2, numvars), figsize=(15, 15))\n",
    "\n",
    "    colors = ['green', 'blue', 'red', 'black']\n",
    "    styles = ['solid', 'dashed']\n",
    "\n",
    "    lines = []\n",
    "    labels = []\n",
    "    for g, gr in enumerate(damages.growth_rate.values):\n",
    "        for r, rcp in enumerate(damages.rcp.values):\n",
    "            for p, pulse in enumerate(damages.pulse.values):\n",
    "                if(g==0):\n",
    "                    labels.append('{}{}'.format(rcp, ['', '+'][p]))\n",
    "                lines.append(\n",
    "                    ax[g//2, g%2].plot(\n",
    "                        damages.year,\n",
    "                        damages.sel(growth_rate=gr, rcp=rcp, pulse=pulse),\n",
    "                        color=colors[r],\n",
    "                        linestyle=styles[p])[0])\n",
    "        \n",
    "        ax[g//2, g%2].set_title('Time series of damages by scenario (Billion USD2019):\\n{}'.format(gr))\n",
    "        ax[g//2, g%2].legend(lines, labels)\n",
    "\n",
    "    sns.despine()\n",
    "\n",
    "    fig.savefig('{}/damage_projections_{}_{}_2100-fixed-{}.pdf'.format(OUTPUT_path, specification, version, hold_2100_damages_fixed))\n",
    "    "
   ]
  },
  {
   "cell_type": "markdown",
   "metadata": {},
   "source": [
    "### Plot time series of damages incurred due to pulse"
   ]
  },
  {
   "cell_type": "code",
   "execution_count": 112,
   "metadata": {},
   "outputs": [],
   "source": [
    "if generate_plots:\n",
    "    fig, axes = plt.subplots((numvars+1)//2, min(2, numvars), figsize=(12, 8))\n",
    "\n",
    "    if numvars == 1:\n",
    "        axes = np.array([[axes]])\n",
    "\n",
    "    for vi, var in enumerate(damages['growth_rate'].values):\n",
    "        (damages.sel(growth_rate=var) * MAGNITUDE_OF_DAMAGES * CONVERSION).diff(dim='pulse').sel(pulse='pulse').plot.line(x='year', ax=axes[vi//2, vi%2])\n",
    "        axes[vi//2, vi%2].axes.set_title(\n",
    "            'Time series of damages incurred due to pulse (2019USD / ton CO2)\\n{}'.format(var),\n",
    "            size=11)\n",
    "\n",
    "    sns.despine()\n",
    "    plt.tight_layout()\n",
    "    plt.savefig('{}/damage_projections_pulse_{}_{}_2100-fixed-{}.pdf'.format(OUTPUT_path, specification, version, hold_2100_damages_fixed))"
   ]
  },
  {
   "cell_type": "markdown",
   "metadata": {},
   "source": [
    "### Compue the SCC (NPV of damages)"
   ]
  },
  {
   "cell_type": "markdown",
   "metadata": {},
   "source": [
    "discount the time series of damages using the formula\n",
    "\n",
    "$$SCC=\\sum_{y\\in\\left[2020, 2300\\right]}{\\frac{d_y}{\\left({1+r}\\right)^{y-2020}}}$$"
   ]
  },
  {
   "cell_type": "markdown",
   "metadata": {},
   "source": [
    "### Plot the current equivalent damage time series"
   ]
  },
  {
   "cell_type": "code",
   "execution_count": 113,
   "metadata": {},
   "outputs": [],
   "source": [
    "discrates = [1.,2.5, 3., 5.]\n",
    "\n",
    "discdata = []\n",
    "for r in discrates:\n",
    "    discdata.append(damages / (1+r/100)**(damages.year - 2020)) #updated in version 0.5 to 2020\n",
    "\n",
    "current_equivalent_damages = xr.concat(discdata, dim=pd.Index(discrates, name='discrate'))\n",
    "\n",
    "rcp = 'rcp85'\n",
    "if generate_plots: \n",
    "    fig, axes = plt.subplots((numvars+1)//2, min(2, numvars), figsize=(12, 8))\n",
    "\n",
    "    if numvars == 1:\n",
    "        axes = np.array([[axes]])\n",
    "\n",
    "    for vi, var in enumerate(damages['growth_rate'].values):\n",
    "        (current_equivalent_damages.sel(growth_rate=var, rcp=rcp) * MAGNITUDE_OF_DAMAGES * CONVERSION).diff(dim='pulse').sel(pulse='pulse').plot.line(x='year', ax=axes[vi//2, vi%2])\n",
    "        axes[vi//2, vi%2].axes.set_title(\n",
    "            'Current equivalent damages incurred due to pulse (USD / ton CO2)\\n Price Scenario: {} RCP: {}'.format(var, rcp),\n",
    "            size=11)\n",
    "\n",
    "    sns.despine()\n",
    "    plt.tight_layout()\n",
    "    plt.savefig('{}/current_equivalent_damage_projections_pulse_{}_{}-fixed-{}.pdf'.format(OUTPUT_path, specification, version, hold_2100_damages_fixed))"
   ]
  },
  {
   "cell_type": "markdown",
   "metadata": {},
   "source": [
    "### Plot SCC (sum of discounted marginal damage time series) by discount rate and RCP"
   ]
  },
  {
   "cell_type": "code",
   "execution_count": 114,
   "metadata": {},
   "outputs": [],
   "source": [
    "scc = (\n",
    "    (current_equivalent_damages.diff(dim='pulse').sel(pulse='pulse') * MAGNITUDE_OF_DAMAGES * CONVERSION)\n",
    "    .sum(dim='year'))\n",
    "\n",
    "scc_pre_2100 = (\n",
    "    (current_equivalent_damages.sel(year=slice(2020, 2099)).diff(dim='pulse')\n",
    "    .sel(pulse='pulse') * MAGNITUDE_OF_DAMAGES * CONVERSION)\n",
    "    .sum(dim='year'))\n",
    "\n",
    "scc_post_2100 = (\n",
    "    (current_equivalent_damages.sel(year=slice(2100, 3000)).diff(dim='pulse')\n",
    "    .sel(pulse='pulse') * MAGNITUDE_OF_DAMAGES * CONVERSION)\n",
    "    .sum(dim='year'))\n",
    "\n",
    "scc_share_post2100 = (\n",
    "    scc_post_2100 / scc)\n",
    "\n",
    "scc = xr.concat([scc, scc_pre_2100, scc_post_2100, scc_share_post2100], pd.Index(['all', 'pre2100', 'post2100', 'share_post2100'], name='time_cut'))\n"
   ]
  },
  {
   "cell_type": "markdown",
   "metadata": {},
   "source": [
    "### Export SCC to CSV"
   ]
  },
  {
   "cell_type": "code",
   "execution_count": 115,
   "metadata": {},
   "outputs": [],
   "source": [
    " (\n",
    "    scc\n",
    "    .to_series()\n",
    "    .unstack('rcp')\n",
    "    .to_csv('{}/scc_{}_2100-fixed-{}.csv'.format(OUTPUT_path, specification, hold_2100_damages_fixed)))"
   ]
  },
  {
   "cell_type": "code",
   "execution_count": 116,
   "metadata": {},
   "outputs": [
    {
     "data": {
      "text/plain": [
       "'C:/Users/TomBearpark/Documents/energy-code-release-2020/figures/scc_values/main//scc_energy_SSP3_all_prices_2100-fixed-False.csv'"
      ]
     },
     "execution_count": 116,
     "metadata": {},
     "output_type": "execute_result"
    }
   ],
   "source": [
    "'{}/scc_{}_2100-fixed-{}.csv'.format(OUTPUT_path, specification, hold_2100_damages_fixed)"
   ]
  }
 ],
 "metadata": {
  "kernelspec": {
   "display_name": "Python 2",
   "language": "python",
   "name": "python2"
  },
  "language_info": {
   "codemirror_mode": {
    "name": "ipython",
    "version": 2
   },
   "file_extension": ".py",
   "mimetype": "text/x-python",
   "name": "python",
   "nbconvert_exporter": "python",
   "pygments_lexer": "ipython2",
   "version": "2.7.15"
  }
 },
 "nbformat": 4,
 "nbformat_minor": 4
}
